{
 "cells": [
  {
   "cell_type": "code",
   "execution_count": 1,
   "id": "4daeca32",
   "metadata": {},
   "outputs": [],
   "source": [
    "# install requried package"
   ]
  },
  {
   "cell_type": "code",
   "execution_count": 2,
   "id": "ad6be7da",
   "metadata": {},
   "outputs": [],
   "source": [
    "# !pip install GoogleNews "
   ]
  },
  {
   "cell_type": "code",
   "execution_count": 3,
   "id": "12bd2d61",
   "metadata": {},
   "outputs": [],
   "source": [
    "# !pip install newspaper3k"
   ]
  },
  {
   "cell_type": "code",
   "execution_count": 4,
   "id": "07665a16",
   "metadata": {},
   "outputs": [],
   "source": [
    "from GoogleNews import GoogleNews\n",
    "from newspaper import Article\n",
    "import pandas as pd"
   ]
  },
  {
   "cell_type": "code",
   "execution_count": 5,
   "id": "800170e9",
   "metadata": {},
   "outputs": [],
   "source": [
    "googlenews = GoogleNews(start='01/01/2021',end='30/6/2021')"
   ]
  },
  {
   "cell_type": "code",
   "execution_count": 6,
   "id": "994d0fad",
   "metadata": {},
   "outputs": [],
   "source": [
    "googlenews.search('Coronavirus')"
   ]
  },
  {
   "cell_type": "code",
   "execution_count": 7,
   "id": "b9b68627",
   "metadata": {},
   "outputs": [],
   "source": [
    "result=googlenews.result()"
   ]
  },
  {
   "cell_type": "code",
   "execution_count": 8,
   "id": "18b76507",
   "metadata": {},
   "outputs": [],
   "source": [
    "df = pd.DataFrame(result)"
   ]
  },
  {
   "cell_type": "code",
   "execution_count": 9,
   "id": "3b16dee3",
   "metadata": {},
   "outputs": [
    {
     "data": {
      "text/html": [
       "<div>\n",
       "<style scoped>\n",
       "    .dataframe tbody tr th:only-of-type {\n",
       "        vertical-align: middle;\n",
       "    }\n",
       "\n",
       "    .dataframe tbody tr th {\n",
       "        vertical-align: top;\n",
       "    }\n",
       "\n",
       "    .dataframe thead th {\n",
       "        text-align: right;\n",
       "    }\n",
       "</style>\n",
       "<table border=\"1\" class=\"dataframe\">\n",
       "  <thead>\n",
       "    <tr style=\"text-align: right;\">\n",
       "      <th></th>\n",
       "      <th>title</th>\n",
       "      <th>media</th>\n",
       "      <th>date</th>\n",
       "      <th>datetime</th>\n",
       "      <th>desc</th>\n",
       "      <th>link</th>\n",
       "      <th>img</th>\n",
       "    </tr>\n",
       "  </thead>\n",
       "  <tbody>\n",
       "    <tr>\n",
       "      <th>0</th>\n",
       "      <td>Coronavirus News LIVE Updates | Oman suspends ...</td>\n",
       "      <td>Moneycontrol</td>\n",
       "      <td>10 mins ago</td>\n",
       "      <td>NaT</td>\n",
       "      <td>Coronavirus News LIVE Updates: India's cumulat...</td>\n",
       "      <td>https://www.moneycontrol.com/news/india/corona...</td>\n",
       "      <td>data:image/gif;base64,R0lGODlhAQABAIAAAP//////...</td>\n",
       "    </tr>\n",
       "    <tr>\n",
       "      <th>1</th>\n",
       "      <td>Coronavirus live updates: Total 36.48 crore va...</td>\n",
       "      <td>Times of India</td>\n",
       "      <td>10 mins ago</td>\n",
       "      <td>NaT</td>\n",
       "      <td>India on Thursday reported 45892 new Covid-19 ...</td>\n",
       "      <td>https://timesofindia.indiatimes.com/india/coro...</td>\n",
       "      <td>data:image/gif;base64,R0lGODlhAQABAIAAAP//////...</td>\n",
       "    </tr>\n",
       "    <tr>\n",
       "      <th>2</th>\n",
       "      <td>Coronavirus India Live Updates: Global death t...</td>\n",
       "      <td>The Indian Express</td>\n",
       "      <td>12 mins ago</td>\n",
       "      <td>NaT</td>\n",
       "      <td>Coronavirus (Covid-19) Cases in India News Liv...</td>\n",
       "      <td>https://indianexpress.com/article/india/corona...</td>\n",
       "      <td>data:image/gif;base64,R0lGODlhAQABAIAAAP//////...</td>\n",
       "    </tr>\n",
       "    <tr>\n",
       "      <th>3</th>\n",
       "      <td>Chennai Hyderabad Live Updates: Active cases i...</td>\n",
       "      <td>The Indian Express</td>\n",
       "      <td>17 mins ago</td>\n",
       "      <td>NaT</td>\n",
       "      <td>Chennai, Hyderabad Coronavirus (Covid-19) Late...</td>\n",
       "      <td>https://indianexpress.com/article/cities/chenn...</td>\n",
       "      <td>data:image/gif;base64,R0lGODlhAQABAIAAAP//////...</td>\n",
       "    </tr>\n",
       "    <tr>\n",
       "      <th>4</th>\n",
       "      <td>Karnataka Bengaluru Live Updates: State report...</td>\n",
       "      <td>The Indian Express</td>\n",
       "      <td>17 mins ago</td>\n",
       "      <td>NaT</td>\n",
       "      <td>Karnataka Bangalore Coronavirus (Covid-19) Lat...</td>\n",
       "      <td>https://indianexpress.com/article/cities/banga...</td>\n",
       "      <td>data:image/gif;base64,R0lGODlhAQABAIAAAP//////...</td>\n",
       "    </tr>\n",
       "  </tbody>\n",
       "</table>\n",
       "</div>"
      ],
      "text/plain": [
       "                                               title               media  \\\n",
       "0  Coronavirus News LIVE Updates | Oman suspends ...        Moneycontrol   \n",
       "1  Coronavirus live updates: Total 36.48 crore va...      Times of India   \n",
       "2  Coronavirus India Live Updates: Global death t...  The Indian Express   \n",
       "3  Chennai Hyderabad Live Updates: Active cases i...  The Indian Express   \n",
       "4  Karnataka Bengaluru Live Updates: State report...  The Indian Express   \n",
       "\n",
       "          date datetime                                               desc  \\\n",
       "0  10 mins ago      NaT  Coronavirus News LIVE Updates: India's cumulat...   \n",
       "1  10 mins ago      NaT  India on Thursday reported 45892 new Covid-19 ...   \n",
       "2  12 mins ago      NaT  Coronavirus (Covid-19) Cases in India News Liv...   \n",
       "3  17 mins ago      NaT  Chennai, Hyderabad Coronavirus (Covid-19) Late...   \n",
       "4  17 mins ago      NaT  Karnataka Bangalore Coronavirus (Covid-19) Lat...   \n",
       "\n",
       "                                                link  \\\n",
       "0  https://www.moneycontrol.com/news/india/corona...   \n",
       "1  https://timesofindia.indiatimes.com/india/coro...   \n",
       "2  https://indianexpress.com/article/india/corona...   \n",
       "3  https://indianexpress.com/article/cities/chenn...   \n",
       "4  https://indianexpress.com/article/cities/banga...   \n",
       "\n",
       "                                                 img  \n",
       "0  data:image/gif;base64,R0lGODlhAQABAIAAAP//////...  \n",
       "1  data:image/gif;base64,R0lGODlhAQABAIAAAP//////...  \n",
       "2  data:image/gif;base64,R0lGODlhAQABAIAAAP//////...  \n",
       "3  data:image/gif;base64,R0lGODlhAQABAIAAAP//////...  \n",
       "4  data:image/gif;base64,R0lGODlhAQABAIAAAP//////...  "
      ]
     },
     "execution_count": 9,
     "metadata": {},
     "output_type": "execute_result"
    }
   ],
   "source": [
    "df.head()"
   ]
  },
  {
   "cell_type": "code",
   "execution_count": 10,
   "id": "b89d2c43",
   "metadata": {},
   "outputs": [],
   "source": [
    "del df['date']"
   ]
  },
  {
   "cell_type": "code",
   "execution_count": 11,
   "id": "a5823654",
   "metadata": {},
   "outputs": [],
   "source": [
    "del df['link']"
   ]
  },
  {
   "cell_type": "code",
   "execution_count": 12,
   "id": "98ca22ee",
   "metadata": {},
   "outputs": [],
   "source": [
    "del df['img']"
   ]
  },
  {
   "cell_type": "code",
   "execution_count": 16,
   "id": "ee209cf6",
   "metadata": {},
   "outputs": [],
   "source": [
    "del df['datetime']"
   ]
  },
  {
   "cell_type": "code",
   "execution_count": 17,
   "id": "9f1e5602",
   "metadata": {},
   "outputs": [],
   "source": [
    "df.to_csv('news.csv')"
   ]
  },
  {
   "cell_type": "code",
   "execution_count": 18,
   "id": "9208a2b7",
   "metadata": {},
   "outputs": [],
   "source": [
    "df.to_html('news.html')"
   ]
  },
  {
   "cell_type": "code",
   "execution_count": 19,
   "id": "f5559642",
   "metadata": {},
   "outputs": [
    {
     "data": {
      "text/html": [
       "<div>\n",
       "<style scoped>\n",
       "    .dataframe tbody tr th:only-of-type {\n",
       "        vertical-align: middle;\n",
       "    }\n",
       "\n",
       "    .dataframe tbody tr th {\n",
       "        vertical-align: top;\n",
       "    }\n",
       "\n",
       "    .dataframe thead th {\n",
       "        text-align: right;\n",
       "    }\n",
       "</style>\n",
       "<table border=\"1\" class=\"dataframe\">\n",
       "  <thead>\n",
       "    <tr style=\"text-align: right;\">\n",
       "      <th></th>\n",
       "      <th>title</th>\n",
       "      <th>media</th>\n",
       "      <th>desc</th>\n",
       "    </tr>\n",
       "  </thead>\n",
       "  <tbody>\n",
       "    <tr>\n",
       "      <th>0</th>\n",
       "      <td>Coronavirus News LIVE Updates | Oman suspends ...</td>\n",
       "      <td>Moneycontrol</td>\n",
       "      <td>Coronavirus News LIVE Updates: India's cumulat...</td>\n",
       "    </tr>\n",
       "    <tr>\n",
       "      <th>1</th>\n",
       "      <td>Coronavirus live updates: Total 36.48 crore va...</td>\n",
       "      <td>Times of India</td>\n",
       "      <td>India on Thursday reported 45892 new Covid-19 ...</td>\n",
       "    </tr>\n",
       "    <tr>\n",
       "      <th>2</th>\n",
       "      <td>Coronavirus India Live Updates: Global death t...</td>\n",
       "      <td>The Indian Express</td>\n",
       "      <td>Coronavirus (Covid-19) Cases in India News Liv...</td>\n",
       "    </tr>\n",
       "  </tbody>\n",
       "</table>\n",
       "</div>"
      ],
      "text/plain": [
       "                                               title               media  \\\n",
       "0  Coronavirus News LIVE Updates | Oman suspends ...        Moneycontrol   \n",
       "1  Coronavirus live updates: Total 36.48 crore va...      Times of India   \n",
       "2  Coronavirus India Live Updates: Global death t...  The Indian Express   \n",
       "\n",
       "                                                desc  \n",
       "0  Coronavirus News LIVE Updates: India's cumulat...  \n",
       "1  India on Thursday reported 45892 new Covid-19 ...  \n",
       "2  Coronavirus (Covid-19) Cases in India News Liv...  "
      ]
     },
     "execution_count": 19,
     "metadata": {},
     "output_type": "execute_result"
    }
   ],
   "source": [
    "df.head(3)"
   ]
  },
  {
   "cell_type": "code",
   "execution_count": null,
   "id": "4fa1f95f",
   "metadata": {},
   "outputs": [],
   "source": []
  }
 ],
 "metadata": {
  "kernelspec": {
   "display_name": "Python 3",
   "language": "python",
   "name": "python3"
  },
  "language_info": {
   "codemirror_mode": {
    "name": "ipython",
    "version": 3
   },
   "file_extension": ".py",
   "mimetype": "text/x-python",
   "name": "python",
   "nbconvert_exporter": "python",
   "pygments_lexer": "ipython3",
   "version": "3.8.10"
  }
 },
 "nbformat": 4,
 "nbformat_minor": 5
}
