{
 "cells": [
  {
   "cell_type": "code",
   "execution_count": 8,
   "id": "9d4589e8",
   "metadata": {},
   "outputs": [],
   "source": [
    "%matplotlib inline\n",
    "from matplotlib import pyplot as plt\n",
    "import pandas as pd"
   ]
  },
  {
   "cell_type": "code",
   "execution_count": 9,
   "id": "2da467f6",
   "metadata": {},
   "outputs": [],
   "source": [
    "df = pd.DataFrame([[494610,2520901,9,26.3],[494659,2520876,18,23.8],[494715,2520968,15,21.7],[494730,2521007,15,22.3],[494698,2521049,9,24.9],[494618,2521084,11,24.5],[494567,2521112,10,24.7],[494556,2521101,13,23.3],[494560,2521043,18,25.1],[494595,2520947,17,26.1]],columns=['X(Easting)','Y(Northing)','Altitude(m)','SNR Value'])"
   ]
  },
  {
   "cell_type": "code",
   "execution_count": 10,
   "id": "5458cfc1",
   "metadata": {},
   "outputs": [
    {
     "data": {
      "text/html": [
       "<div>\n",
       "<style scoped>\n",
       "    .dataframe tbody tr th:only-of-type {\n",
       "        vertical-align: middle;\n",
       "    }\n",
       "\n",
       "    .dataframe tbody tr th {\n",
       "        vertical-align: top;\n",
       "    }\n",
       "\n",
       "    .dataframe thead th {\n",
       "        text-align: right;\n",
       "    }\n",
       "</style>\n",
       "<table border=\"1\" class=\"dataframe\">\n",
       "  <thead>\n",
       "    <tr style=\"text-align: right;\">\n",
       "      <th></th>\n",
       "      <th>X(Easting)</th>\n",
       "      <th>Y(Northing)</th>\n",
       "      <th>Altitude(m)</th>\n",
       "      <th>SNR Value</th>\n",
       "    </tr>\n",
       "  </thead>\n",
       "  <tbody>\n",
       "    <tr>\n",
       "      <th>0</th>\n",
       "      <td>494610</td>\n",
       "      <td>2520901</td>\n",
       "      <td>9</td>\n",
       "      <td>26.3</td>\n",
       "    </tr>\n",
       "    <tr>\n",
       "      <th>1</th>\n",
       "      <td>494659</td>\n",
       "      <td>2520876</td>\n",
       "      <td>18</td>\n",
       "      <td>23.8</td>\n",
       "    </tr>\n",
       "    <tr>\n",
       "      <th>2</th>\n",
       "      <td>494715</td>\n",
       "      <td>2520968</td>\n",
       "      <td>15</td>\n",
       "      <td>21.7</td>\n",
       "    </tr>\n",
       "    <tr>\n",
       "      <th>3</th>\n",
       "      <td>494730</td>\n",
       "      <td>2521007</td>\n",
       "      <td>15</td>\n",
       "      <td>22.3</td>\n",
       "    </tr>\n",
       "    <tr>\n",
       "      <th>4</th>\n",
       "      <td>494698</td>\n",
       "      <td>2521049</td>\n",
       "      <td>9</td>\n",
       "      <td>24.9</td>\n",
       "    </tr>\n",
       "    <tr>\n",
       "      <th>5</th>\n",
       "      <td>494618</td>\n",
       "      <td>2521084</td>\n",
       "      <td>11</td>\n",
       "      <td>24.5</td>\n",
       "    </tr>\n",
       "    <tr>\n",
       "      <th>6</th>\n",
       "      <td>494567</td>\n",
       "      <td>2521112</td>\n",
       "      <td>10</td>\n",
       "      <td>24.7</td>\n",
       "    </tr>\n",
       "    <tr>\n",
       "      <th>7</th>\n",
       "      <td>494556</td>\n",
       "      <td>2521101</td>\n",
       "      <td>13</td>\n",
       "      <td>23.3</td>\n",
       "    </tr>\n",
       "    <tr>\n",
       "      <th>8</th>\n",
       "      <td>494560</td>\n",
       "      <td>2521043</td>\n",
       "      <td>18</td>\n",
       "      <td>25.1</td>\n",
       "    </tr>\n",
       "    <tr>\n",
       "      <th>9</th>\n",
       "      <td>494595</td>\n",
       "      <td>2520947</td>\n",
       "      <td>17</td>\n",
       "      <td>26.1</td>\n",
       "    </tr>\n",
       "  </tbody>\n",
       "</table>\n",
       "</div>"
      ],
      "text/plain": [
       "   X(Easting)  Y(Northing)  Altitude(m)  SNR Value\n",
       "0      494610      2520901            9       26.3\n",
       "1      494659      2520876           18       23.8\n",
       "2      494715      2520968           15       21.7\n",
       "3      494730      2521007           15       22.3\n",
       "4      494698      2521049            9       24.9\n",
       "5      494618      2521084           11       24.5\n",
       "6      494567      2521112           10       24.7\n",
       "7      494556      2521101           13       23.3\n",
       "8      494560      2521043           18       25.1\n",
       "9      494595      2520947           17       26.1"
      ]
     },
     "execution_count": 10,
     "metadata": {},
     "output_type": "execute_result"
    }
   ],
   "source": [
    "df"
   ]
  },
  {
   "cell_type": "code",
   "execution_count": 11,
   "id": "04b12029",
   "metadata": {},
   "outputs": [],
   "source": [
    "df.to_excel('gps data.xlsx')"
   ]
  },
  {
   "cell_type": "code",
   "execution_count": 13,
   "id": "ca1365b0",
   "metadata": {},
   "outputs": [],
   "source": [
    "df1 = df.sort_values(['X(Easting)'])"
   ]
  },
  {
   "cell_type": "code",
   "execution_count": 14,
   "id": "2681483e",
   "metadata": {},
   "outputs": [
    {
     "data": {
      "text/html": [
       "<div>\n",
       "<style scoped>\n",
       "    .dataframe tbody tr th:only-of-type {\n",
       "        vertical-align: middle;\n",
       "    }\n",
       "\n",
       "    .dataframe tbody tr th {\n",
       "        vertical-align: top;\n",
       "    }\n",
       "\n",
       "    .dataframe thead th {\n",
       "        text-align: right;\n",
       "    }\n",
       "</style>\n",
       "<table border=\"1\" class=\"dataframe\">\n",
       "  <thead>\n",
       "    <tr style=\"text-align: right;\">\n",
       "      <th></th>\n",
       "      <th>X(Easting)</th>\n",
       "      <th>Y(Northing)</th>\n",
       "      <th>Altitude(m)</th>\n",
       "      <th>SNR Value</th>\n",
       "    </tr>\n",
       "  </thead>\n",
       "  <tbody>\n",
       "    <tr>\n",
       "      <th>7</th>\n",
       "      <td>494556</td>\n",
       "      <td>2521101</td>\n",
       "      <td>13</td>\n",
       "      <td>23.3</td>\n",
       "    </tr>\n",
       "    <tr>\n",
       "      <th>8</th>\n",
       "      <td>494560</td>\n",
       "      <td>2521043</td>\n",
       "      <td>18</td>\n",
       "      <td>25.1</td>\n",
       "    </tr>\n",
       "    <tr>\n",
       "      <th>6</th>\n",
       "      <td>494567</td>\n",
       "      <td>2521112</td>\n",
       "      <td>10</td>\n",
       "      <td>24.7</td>\n",
       "    </tr>\n",
       "    <tr>\n",
       "      <th>9</th>\n",
       "      <td>494595</td>\n",
       "      <td>2520947</td>\n",
       "      <td>17</td>\n",
       "      <td>26.1</td>\n",
       "    </tr>\n",
       "    <tr>\n",
       "      <th>0</th>\n",
       "      <td>494610</td>\n",
       "      <td>2520901</td>\n",
       "      <td>9</td>\n",
       "      <td>26.3</td>\n",
       "    </tr>\n",
       "    <tr>\n",
       "      <th>5</th>\n",
       "      <td>494618</td>\n",
       "      <td>2521084</td>\n",
       "      <td>11</td>\n",
       "      <td>24.5</td>\n",
       "    </tr>\n",
       "    <tr>\n",
       "      <th>1</th>\n",
       "      <td>494659</td>\n",
       "      <td>2520876</td>\n",
       "      <td>18</td>\n",
       "      <td>23.8</td>\n",
       "    </tr>\n",
       "    <tr>\n",
       "      <th>4</th>\n",
       "      <td>494698</td>\n",
       "      <td>2521049</td>\n",
       "      <td>9</td>\n",
       "      <td>24.9</td>\n",
       "    </tr>\n",
       "    <tr>\n",
       "      <th>2</th>\n",
       "      <td>494715</td>\n",
       "      <td>2520968</td>\n",
       "      <td>15</td>\n",
       "      <td>21.7</td>\n",
       "    </tr>\n",
       "    <tr>\n",
       "      <th>3</th>\n",
       "      <td>494730</td>\n",
       "      <td>2521007</td>\n",
       "      <td>15</td>\n",
       "      <td>22.3</td>\n",
       "    </tr>\n",
       "  </tbody>\n",
       "</table>\n",
       "</div>"
      ],
      "text/plain": [
       "   X(Easting)  Y(Northing)  Altitude(m)  SNR Value\n",
       "7      494556      2521101           13       23.3\n",
       "8      494560      2521043           18       25.1\n",
       "6      494567      2521112           10       24.7\n",
       "9      494595      2520947           17       26.1\n",
       "0      494610      2520901            9       26.3\n",
       "5      494618      2521084           11       24.5\n",
       "1      494659      2520876           18       23.8\n",
       "4      494698      2521049            9       24.9\n",
       "2      494715      2520968           15       21.7\n",
       "3      494730      2521007           15       22.3"
      ]
     },
     "execution_count": 14,
     "metadata": {},
     "output_type": "execute_result"
    }
   ],
   "source": [
    "df1"
   ]
  },
  {
   "cell_type": "code",
   "execution_count": 20,
   "id": "99a6f9a3",
   "metadata": {},
   "outputs": [],
   "source": [
    "x = df1['X(Easting)'].to_list()\n",
    "x.append(x[0])"
   ]
  },
  {
   "cell_type": "code",
   "execution_count": 21,
   "id": "ecda504e",
   "metadata": {},
   "outputs": [
    {
     "data": {
      "text/plain": [
       "list"
      ]
     },
     "execution_count": 21,
     "metadata": {},
     "output_type": "execute_result"
    }
   ],
   "source": [
    "type(x)"
   ]
  },
  {
   "cell_type": "code",
   "execution_count": 23,
   "id": "1b0129ca",
   "metadata": {},
   "outputs": [],
   "source": [
    "y = df1['Y(Northing)'].to_list()\n",
    "y.append([0])"
   ]
  },
  {
   "cell_type": "code",
   "execution_count": 25,
   "id": "3d129a05",
   "metadata": {},
   "outputs": [
    {
     "data": {
      "image/png": "[encoded data removed]",
      "text/plain": [
       "<Figure size 432x288 with 1 Axes>"
      ]
     },
     "metadata": {
      "needs_background": "light"
     },
     "output_type": "display_data"
    }
   ],
   "source": [
    "plt.plot(x,y)\n",
    "plt.title(\"GPS Surveying:Closed Traverse\")\n",
    "plt.xlabel(\"Easting----->\")\n",
    "plt.ylabel(\"Northing----->\")\n",
    "plt.show()"
   ]
  },
  {
   "cell_type": "code",
   "execution_count": null,
   "id": "64e565d2",
   "metadata": {},
   "outputs": [],
   "source": []
  }
 ],
 "metadata": {
  "kernelspec": {
   "display_name": "Python 3",
   "language": "python",
   "name": "python3"
  },
  "language_info": {
   "codemirror_mode": {
    "name": "ipython",
    "version": 3
   },
   "file_extension": ".py",
   "mimetype": "text/x-python",
   "name": "python",
   "nbconvert_exporter": "python",
   "pygments_lexer": "ipython3",
   "version": "3.8.10"
  }
 },
 "nbformat": 4,
 "nbformat_minor": 5
}
